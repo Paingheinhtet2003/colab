{
 "cells": [
  {
   "cell_type": "markdown",
   "metadata": {
    "id": "NiOPNjE32Tgj"
   },
   "source": [
    "# 1. Header\n",
    "\n",
    "# Untitle\n",
    "## Untitle\n",
    "### Untitle\n",
    "#### Untitle\n",
    "##### Untile\n",
    "###### Untitle\n",
    "####### Untitle\n",
    "######## Untitle"
   ]
  },
  {
   "cell_type": "markdown",
   "metadata": {
    "id": "1oS-diNQ3DIF"
   },
   "source": [
    "# Untitle, Juypter, Group\n",
    "\n",
    "UntitleUntitle*Untitle*UntitleUntitleUntitleUntitleUntitleUntitleUntitleUntitleUntitleUntitleUntitleUntitleUntitleUntitleUntitleUntitleUntitleUntitleUntitleUntitleUntitleUntitleUntitleUntitleUntitle\n",
    "\n",
    "JuypteJuypteJuypte**Juypte**JuypteJuypteJuypteJuypteJuypteJuypteJuypteJuypteJuypteJuypteJuypteJuypteJuypteJuypteJuypteJuypteJuypteJuypteJuypteJuypteJuypteJuypteJuypteJuypteJuypteJuypteJuypteJuypteJuypte\n",
    "\n",
    "GroupGroup***Group***GroupGroupGroupGroupGroupGroupGroupGroupGroupGroupGroup"
   ]
  },
  {
   "cell_type": "markdown",
   "metadata": {
    "id": "uQO2cZlG3pzj"
   },
   "source": [
    "# 3. List and group\n",
    "\n",
    "* List\n",
    "* List\n",
    "* List\n",
    "\n",
    "1. number\n",
    "2. number\n",
    "3. number\n"
   ]
  },
  {
   "cell_type": "markdown",
   "metadata": {
    "id": "Z6_4uMEy4Puf"
   },
   "source": [
    "# 4. breakline\n",
    "\n",
    "breakline~breakline~breaklinebreaklinebreaklinebreaklinebreaklinebreaklinebreaklinebreaklinebreaklinebreaklinebreaklinebreaklinebreaklinebreaklinebreaklinebreaklinebreaklinebreakline"
   ]
  },
  {
   "cell_type": "markdown",
   "metadata": {
    "id": "oq4Wi6Zd4qA5"
   },
   "source": [
    "# 5. horizontalline\n",
    "\n",
    "___\n",
    "- - -\n",
    "***"
   ]
  },
  {
   "cell_type": "markdown",
   "metadata": {
    "id": "q9ubk-zN5GKX"
   },
   "source": [
    "# 6. Blockquote\n",
    "\n",
    "UnknownUnknown`Unknown`UnknownUnknownUnknownUnknownUnknownUnknownUnknownUnknownUnknownUnknownUnknownUnknownUnknownUnknownUnknownUnknownUnknownUnknownUnknownUnknownUnknownUnknownUnknownUnknownUnknownUnknown"
   ]
  },
  {
   "cell_type": "markdown",
   "metadata": {
    "id": "er2xYbKl5rNz"
   },
   "source": [
    "# 7. Programming\n",
    "\n",
    "Below is the code\n",
    "\n",
    "```\n",
    "print(\"Hello, World!\") print(\"Hello, World!\")\n",
    "print(\"Hello, World!\") print(\"Hello, World!\")\n",
    "print(\"Hello, World!\") print(\"Hello, World!\")\n",
    "print(\"Hello, World!\") print(\"Hello, World!\")\n",
    "print(\"Hello, World!\") print(\"Hello, World!\")\n",
    "print(\"Hello, World!\") print(\"Hello, World!\")\n",
    "print(\"Hello, World!\") print(\"Hello, World!\")\n",
    "print(\"Hello, World!\")\n",
    "\n",
    "```\n",
    "\n",
    "Above is the code"
   ]
  },
  {
   "cell_type": "markdown",
   "metadata": {
    "id": "KjzdB76D6nYQ"
   },
   "source": [
    "# 8. Left Line break\n",
    "\n",
    "> **Snake** SnakeSnakeSnakeSnakeSnakeSnakeSnakeSnakeSnakeSnakeSnakeSnakeSnakeSnakeSnakeSnakeSnakeSnakeSnakeSnakeSnakeSnakeSnakeSnakeSnakeSnakeSnakeSnakeSnakeSnakeSnakeSnakeSnakeSnakeSnakeSnakeSnakeSnakeSnakeSnakeSnakeSnakeSnakeSnakeSnakeSnakeSnakeSnakeSnakeSnakeSnakeSnakeSnakeSnakeSnakeSnakeSnakeSnakeSnakeSnakeSnakeSnakeSnakeSnakeSnakeSnakeSnakeSnakeSnakeSnake"
   ]
  },
  {
   "cell_type": "markdown",
   "metadata": {
    "id": "xpgZhijz8Rod"
   },
   "source": [
    "# 9. Link\n",
    "\n",
    "1. normal link:\n",
    "https://www.google.com.tw\n",
    "\n",
    "2. word link:\n",
    "[send me to the google](https://www.google.com.tw)\n",
    "\n",
    "3. photo:\n",
    "![](https://www.google.com.tw/images/branding/googlelogo/1x/googlelogo_color_272x92dp.png)\n",
    "\n",
    "4. photo link:\n",
    "[![](https://www.google.com.tw/images/branding/googlelogo/1x/googlelogo_color_272x92dp.png)](https://www.google.com.tw)\n",
    "\n",
    "5. photo_link + caption:\n",
    "[![](https://www.google.com.tw/images/branding/googlelogo/1x/googlelogo_color_272x92dp.png)](https://www.google.com.tw 'send me to the google')\n",
    "\n",
    "6. Link (Yahoo):\n",
    "[![](https://s.yimg.com/cv/apiv2/twfrontpage/logo/Yahoo-TW-desktop-FP@2x.png)](https://tw.yahoo.com/ 'send me to the Yahoo')\n"
   ]
  },
  {
   "cell_type": "markdown",
   "metadata": {
    "id": "ZRD51Wmd_4OF"
   },
   "source": [
    "# 10. **MarkDown** Recommend Website\n",
    "\n",
    "https://markdown.tw/"
   ]
  },
  {
   "cell_type": "code",
   "execution_count": null,
   "metadata": {
    "id": "PIf8c3OI13iK"
   },
   "outputs": [],
   "source": []
  }
 ],
 "metadata": {
  "colab": {
   "provenance": [],
   "toc_visible": true
  },
  "kernelspec": {
   "display_name": "Python 3 (ipykernel)",
   "language": "python",
   "name": "python3"
  },
  "language_info": {
   "codemirror_mode": {
    "name": "ipython",
    "version": 3
   },
   "file_extension": ".py",
   "mimetype": "text/x-python",
   "name": "python",
   "nbconvert_exporter": "python",
   "pygments_lexer": "ipython3",
   "version": "3.11.7"
  }
 },
 "nbformat": 4,
 "nbformat_minor": 4
}
